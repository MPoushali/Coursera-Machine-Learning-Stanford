{
  "nbformat": 4,
  "nbformat_minor": 0,
  "metadata": {
    "colab": {
      "provenance": [],
      "authorship_tag": "ABX9TyNN7X5CbdnhmL7WsLQAzcL1",
      "include_colab_link": true
    },
    "kernelspec": {
      "name": "python3",
      "display_name": "Python 3"
    },
    "language_info": {
      "name": "python"
    }
  },
  "cells": [
    {
      "cell_type": "markdown",
      "metadata": {
        "id": "view-in-github",
        "colab_type": "text"
      },
      "source": [
        "<a href=\"https://colab.research.google.com/github/MPoushali/Coursera-Machine-Learning-Stanford/blob/master/python3/advanced-python/ch12-13-regular-expressions/RegEx_1b.ipynb\" target=\"_parent\"><img src=\"https://colab.research.google.com/assets/colab-badge.svg\" alt=\"Open In Colab\"/></a>"
      ]
    },
    {
      "cell_type": "markdown",
      "source": [
        "# Learning Resources:\n",
        "- [RegEx - python-course.eu](https://python-course.eu/advanced-python/regular-expressions.php)"
      ],
      "metadata": {
        "id": "XWVRdkZnt4UQ"
      }
    },
    {
      "cell_type": "code",
      "source": [
        "import re"
      ],
      "metadata": {
        "id": "4wfSchfXt42c"
      },
      "execution_count": null,
      "outputs": []
    },
    {
      "cell_type": "markdown",
      "source": [
        "**In this comprehensive exercise, we have to bring the information of two files together. In the first file, we have a list of nearly 15000 lines of post codes with the corresponding city names plus additional information. Here are some arbitrary lines of this file:**\n",
        "```\n",
        "osm_id ort plz bundesland\n",
        "1104550 Aach 78267 Baden-Württemberg\n",
        "...\n",
        "446465 Freiburg (Elbe) 21729 Niedersachsen\n",
        "62768 Freiburg im Breisgau 79098 Baden-Württemberg\n",
        "62768 Freiburg im Breisgau 79100 Baden-Württemberg\n",
        "62768 Freiburg im Breisgau 79102 Baden-Württemberg\n",
        "...\n",
        "454863 Fulda 36037 Hessen\n",
        "454863 Fulda 36039 Hessen\n",
        "454863 Fulda 36041 Hessen\n",
        "...\n",
        "1451600 Gallin 19258 Mecklenburg-Vorpommern\n",
        "449887 Gallin-Kuppentin 19386 Mecklenburg-Vorpommern\n",
        "...\n",
        "57082 Gärtringen 71116 Baden-Württemberg\n",
        "1334113 Gartz (Oder) 16307 Brandenburg\n",
        "...\n",
        "2791802 Giengen an der Brenz 89522 Baden-Württemberg\n",
        "2791802 Giengen an der Brenz 89537 Baden-Württemberg\n",
        "...\n",
        "1187159 Saarbrücken 66133 Saarland\n",
        "1256034 Saarburg 54439 Rheinland-Pfalz\n",
        "1184570 Saarlouis 66740 Saarland\n",
        "1184566 Saarwellingen 66793 Saarland \n",
        "```\n",
        "**The other file contains a list of the 19 largest German cities. Each line consists of the rank, the name of the city, the population, and the state (Bundesland):**\n",
        "```\n",
        "1.  Berlin          3.382.169 Berlin\n",
        "2.  Hamburg         1.715.392 Hamburg\n",
        "3.  München         1.210.223 Bayern\n",
        "4.  Köln              962.884 Nordrhein-Westfalen\n",
        "5.  Frankfurt am Main 646.550 Hessen\n",
        "6.  Essen             595.243 Nordrhein-Westfalen\n",
        "7.  Dortmund          588.994 Nordrhein-Westfalen\n",
        "8.  Stuttgart         583.874 Baden-Württemberg\n",
        "9.  Düsseldorf        569.364 Nordrhein-Westfalen\n",
        "10. Bremen            539.403 Bremen\n",
        "11. Hannover          515.001 Niedersachsen\n",
        "12. Duisburg          514.915 Nordrhein-Westfalen\n",
        "13. Leipzig           493.208 Sachsen\n",
        "14. Nürnberg          488.400 Bayern\n",
        "15. Dresden           477.807 Sachsen\n",
        "16. Bochum            391.147 Nordrhein-Westfalen\n",
        "17. Wuppertal         366.434 Nordrhein-Westfalen\n",
        "18. Bielefeld         321.758 Nordrhein-Westfalen\n",
        "19. Mannheim          306.729 Baden-Württemberg \n",
        "```\n",
        "**Our task is to create a list with the top 19 cities, with the city names accompanied by the postal code.\n",
        "Here is the list of [German post codes](https://python-course.eu/data1/post_codes_germany.txt)**"
      ],
      "metadata": {
        "id": "rQsnt2mut8GZ"
      }
    },
    {
      "cell_type": "code",
      "source": [],
      "metadata": {
        "id": "YPfvMFKpudvZ"
      },
      "execution_count": null,
      "outputs": []
    }
  ]
}